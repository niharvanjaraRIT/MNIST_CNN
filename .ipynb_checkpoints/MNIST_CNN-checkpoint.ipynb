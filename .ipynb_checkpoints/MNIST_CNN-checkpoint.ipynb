{
 "cells": [
  {
   "cell_type": "code",
   "execution_count": 3,
   "metadata": {},
   "outputs": [],
   "source": [
    "import tensorflow as tf\n",
    "import struct\n",
    "import numpy as np\n",
    "from matplotlib import pyplot\n",
    "import matplotlib as mpl"
   ]
  },
  {
   "cell_type": "code",
   "execution_count": 4,
   "metadata": {},
   "outputs": [],
   "source": [
    "def load_files(label_path,img_path):\n",
    "\n",
    "    with open(label_path, 'rb') as f_label:\n",
    "        magic, num = struct.unpack(\">II\", f_label.read(8))\n",
    "        labels = np.fromfile(f_label, dtype=np.int8)\n",
    "    \n",
    "    with open(img_path, 'rb') as f_img:\n",
    "        magic, num, rows, cols = struct.unpack(\">IIII\", f_img.read(16))\n",
    "        imgs = np.fromfile(f_img, dtype=np.uint8).reshape(len(labels), rows, cols)\n",
    "    \n",
    "    return imgs,labels"
   ]
  },
  {
   "cell_type": "markdown",
   "metadata": {},
   "source": [
    "load train and test data"
   ]
  },
  {
   "cell_type": "code",
   "execution_count": 5,
   "metadata": {},
   "outputs": [],
   "source": [
    "trainImgs,trainLabels = load_files('data/train-labels.idx1-ubyte','data/train-images.idx3-ubyte')\n",
    "testImgs, testLabels = load_files('data/t10k-labels.idx1-ubyte','data/t10k-images.idx3-ubyte')"
   ]
  },
  {
   "cell_type": "code",
   "execution_count": 6,
   "metadata": {},
   "outputs": [],
   "source": [
    "# print(len(testImgs))\n",
    "# classDict = {}\n",
    "# valImgs,valLabels, newtestImgs, newtestLabels = [], [], [], []\n",
    "# classes = np.unique(testLabels)\n",
    "# for class_ in classes:\n",
    "#     indices = np.argwhere(testLabels == class_)\n",
    "#     np.random.shuffle(indices)\n",
    "#     print(len(indices))\n",
    "#     val_indices = indices[:int(len(indices) * 0.5)]\n",
    "#     test_indices = indices[int(len(indices) * 0.5):]\n",
    "#     valImgs = valImgs + [testImgs[val_indices]] \n",
    "#     valLabels = valLabels + [testLabels[val_indices]]\n",
    "#     newtestImgs = newtestImgs + [testImgs[test_indices]]\n",
    "#     newtestLabels = newtestLabels + [testLabels[test_indices]]\n",
    "# print(classDict.keys())\n",
    "# print(len(valImgs),len(valLabels))\n",
    "# print(len(newtestImgs),len(newtestLabels))"
   ]
  },
  {
   "cell_type": "code",
   "execution_count": 7,
   "metadata": {},
   "outputs": [],
   "source": [
    "def show(imgs,labels):\n",
    "    classes = np.unique(labels)\n",
    "    counter = 1\n",
    "    fig = pyplot.figure(figsize=(15,15))\n",
    "    for class_ in classes:\n",
    "        indices = np.argwhere(labels == class_).reshape(-1)\n",
    "        random_index = np.random.choice(indices, 1)\n",
    "        ax = fig.add_subplot(1,10,counter)\n",
    "        ax.imshow(imgs[random_index[0]], cmap=mpl.cm.Greys)\n",
    "        ax.set_yticklabels([])\n",
    "        ax.set_xticklabels([])\n",
    "        counter += 1\n",
    "    pyplot.subplots_adjust(wspace=0.05)\n",
    "    pyplot.show()\n"
   ]
  },
  {
   "cell_type": "code",
   "execution_count": 8,
   "metadata": {},
   "outputs": [
    {
     "data": {
      "image/png": "[encoded data removed]",
      "text/plain": [
       "<matplotlib.figure.Figure at 0x1b8a440d160>"
      ]
     },
     "metadata": {},
     "output_type": "display_data"
    }
   ],
   "source": [
    "show(trainImgs,trainLabels)"
   ]
  },
  {
   "cell_type": "code",
   "execution_count": 9,
   "metadata": {},
   "outputs": [
    {
     "data": {
      "image/png": "[encoded data removed]",
      "text/plain": [
       "<matplotlib.figure.Figure at 0x1b8a5adad68>"
      ]
     },
     "metadata": {},
     "output_type": "display_data"
    }
   ],
   "source": [
    "show(testImgs, testLabels)"
   ]
  },
  {
   "cell_type": "code",
   "execution_count": 10,
   "metadata": {},
   "outputs": [],
   "source": [
    "def create_model_inputs(n_W,n_H,n_y):\n",
    "    \n",
    "    X = tf.placeholder(tf.float32, shape=[None,n_W,n_H])\n",
    "    Y = tf.placeholder(tf.float32, shape=[None,n_y])\n",
    "    \n",
    "    return X,Y"
   ]
  },
  {
   "cell_type": "code",
   "execution_count": 11,
   "metadata": {},
   "outputs": [
    {
     "name": "stdout",
     "output_type": "stream",
     "text": [
      "Tensor(\"Placeholder:0\", shape=(?, 28, 28), dtype=float32)\n",
      "Tensor(\"Placeholder_1:0\", shape=(?, 10), dtype=float32)\n"
     ]
    }
   ],
   "source": [
    "x,y = create_model_inputs(28,28,10)\n",
    "print(x)\n",
    "print(y)"
   ]
  },
  {
   "cell_type": "code",
   "execution_count": 12,
   "metadata": {},
   "outputs": [],
   "source": [
    "def random_mini_batches(X,Y,minibatch_size,seed=3):\n",
    "    \n",
    "    np.random.seed(seed)\n",
    "    num_samples = X.shape[0]\n",
    "    indices = np.arange(num_samples)\n",
    "    np.random.shuffle(indices)\n",
    "    \n",
    "    minibatches = []\n",
    "    for idx in range(0,num_samples,minibatch_size):\n",
    "        \n",
    "        minibatch_idices = indices[idx:idx+minibatch_size]\n",
    "        minibatches.append((X[minibatch_idices,:,:],\n",
    "                              Y[minibatch_idices,:]))\n",
    "    return minibatches"
   ]
  },
  {
   "cell_type": "code",
   "execution_count": 13,
   "metadata": {},
   "outputs": [],
   "source": [
    "def one_hot_encoding(y):\n",
    "    \"\"\"\n",
    "    Generate one-hot-ecoding for the labels:\n",
    "    params: list of labels: y\n",
    "    returns: numpy array of encoded labels of size [?,num_classes]\n",
    "    \n",
    "    \"\"\"\n",
    "    num_samples = y.shape[0]\n",
    "    print(y.shape)\n",
    "    num_class = np.unique(y).shape[0]   \n",
    "    num_class = 10    \n",
    "    y_encoded = np.zeros((num_samples,num_class))\n",
    "    y_encoded[np.arange(num_samples),y] = 1\n",
    "\n",
    "    return y_encoded"
   ]
  },
  {
   "cell_type": "code",
   "execution_count": 14,
   "metadata": {},
   "outputs": [],
   "source": [
    "def initialize_parameters():\n",
    "    \n",
    "    tf.set_random_seed(1)\n",
    "    \n",
    "    filter_height = {\"l1\": 10, \"l2\": 10, \"l3\": 10 }\n",
    "    filter_width = {\"l1\" : 10, \"l2\": 10, \"l3\" : 10}\n",
    "    in_channels = {\"l1\" : 1,\"l2\" : 16, \"l3\" : 32}\n",
    "    out_channels = {\"l1\" : 16,\"l2\" : 32,\"l3\" : 64}\n",
    "    \n",
    "    init = tf.contrib.layers.xavier_initializer(seed = 0)\n",
    "    bias_init = tf.constant_initializer(0.0)\n",
    "    \n",
    "    W1 = tf.get_variable(\"W1\",[filter_height[\"l1\"],filter_width[\"l1\"],in_channels[\"l1\"],out_channels[\"l1\"]],initializer=init)\n",
    "    W2 = tf.get_variable(\"W2\",[filter_height[\"l1\"],filter_width[\"l2\"],in_channels[\"l2\"],out_channels[\"l2\"]],initializer=init)\n",
    "    W3 = tf.get_variable(\"W3\",[filter_height[\"l1\"],filter_width[\"l3\"],in_channels[\"l3\"],out_channels[\"l3\"]],initializer=init)\n",
    "    \n",
    "    \n",
    "    bias1 = tf.get_variable(\"bias1\",out_channels[\"l1\"],initializer=bias_init)\n",
    "    bias2 = tf.get_variable(\"bias2\",out_channels[\"l2\"],initializer=bias_init)\n",
    "    bias3 = tf.get_variable(\"bias3\",out_channels[\"l3\"],initializer=bias_init)\n",
    "\n",
    "    \n",
    "    parameters = {\"W1\":W1,\"W2\":W2,\"W3\":W3,\n",
    "                  \"bias1\":bias1,\"bias2\":bias2,\"bias3\":bias3}\n",
    "    \n",
    "    return parameters"
   ]
  },
  {
   "cell_type": "code",
   "execution_count": 15,
   "metadata": {},
   "outputs": [
    {
     "data": {
      "text/plain": [
       "{'W1': <tf.Variable 'W1:0' shape=(10, 10, 1, 16) dtype=float32_ref>,\n",
       " 'W2': <tf.Variable 'W2:0' shape=(10, 10, 16, 32) dtype=float32_ref>,\n",
       " 'W3': <tf.Variable 'W3:0' shape=(10, 10, 32, 64) dtype=float32_ref>,\n",
       " 'bias1': <tf.Variable 'bias1:0' shape=(16,) dtype=float32_ref>,\n",
       " 'bias2': <tf.Variable 'bias2:0' shape=(32,) dtype=float32_ref>,\n",
       " 'bias3': <tf.Variable 'bias3:0' shape=(64,) dtype=float32_ref>}"
      ]
     },
     "execution_count": 15,
     "metadata": {},
     "output_type": "execute_result"
    }
   ],
   "source": [
    "tf.reset_default_graph()\n",
    "initialize_parameters()"
   ]
  },
  {
   "cell_type": "code",
   "execution_count": 16,
   "metadata": {},
   "outputs": [],
   "source": [
    "def forward_propagation(X,parameters,keep_prob):\n",
    "    \n",
    "    X = tf.reshape(X, [-1, 28, 28, 1])\n",
    "    \n",
    "    W1,bias1 = parameters[\"W1\"], parameters[\"bias1\"]\n",
    "    W2,bias2 = parameters[\"W2\"], parameters[\"bias2\"]\n",
    "    W3,bias3 = parameters[\"W3\"], parameters[\"bias3\"]\n",
    "    \n",
    "    Z1 = tf.nn.conv2d(X,W1,strides=[1, 1, 1, 1],padding='SAME') + bias1\n",
    "    A1 = tf.nn.relu(Z1)\n",
    "    #dropout_1 = tf.nn.dropout(activation_1,keep_prob)\n",
    "    P1 = tf.nn.max_pool(A1, ksize=[1, 2, 2, 1],strides=[1, 2, 2, 1], padding='SAME')\n",
    "    \n",
    "    Z2 = tf.nn.conv2d(P1,W2,strides=[1, 1, 1, 1],padding='SAME') + bias2\n",
    "    A2 = tf.nn.relu(Z2)\n",
    "    #dropout_1 = tf.nn.dropout(activation_1,keep_prob)\n",
    "    P2 = tf.nn.max_pool(A2, ksize=[1, 2, 2, 1],strides=[1, 2, 2, 1], padding='SAME')\n",
    "    \n",
    "#     Z3 = tf.nn.conv2d(P2,W3,strides=[1, 1, 1, 1],padding='SAME') + bias3\n",
    "#     A3 = tf.nn.relu(Z3)\n",
    "#     #dropout_1 = tf.nn.dropout(activation_1,keep_prob)\n",
    "#     P3 = tf.nn.max_pool(A3, ksize=[1, 2, 2, 1],strides=[1, 2, 2, 1], padding='SAME')\n",
    "    \n",
    "    P2 = tf.contrib.layers.flatten(P2)\n",
    "    Z2 = tf.contrib.layers.fully_connected(P2, num_outputs=10, activation_fn=None)\n",
    "    \n",
    "    return Z2"
   ]
  },
  {
   "cell_type": "code",
   "execution_count": 17,
   "metadata": {},
   "outputs": [],
   "source": [
    "def compute_cost(prediction,actual):\n",
    "    cost = tf.reduce_mean(tf.nn.softmax_cross_entropy_with_logits(logits=prediction,labels=actual))        \n",
    "    return cost "
   ]
  },
  {
   "cell_type": "code",
   "execution_count": 18,
   "metadata": {},
   "outputs": [],
   "source": [
    "def model_train(train_data,val_data,num_epochs=20,learning_rate=0.001,minibatch_size=64):\n",
    "    \"\"\"\n",
    "    \n",
    "    Training the MLP until a fixed set of interations.\n",
    "    \n",
    "    params: training data: tuple of X [?,784] and Y [?,10]\n",
    "            validation data: tuple of X [?,784] and Y [?,10]\n",
    "            number of epochs (max): int   \n",
    "            learning rate (alpha): float\n",
    "            minibatch size: int\n",
    "    returns: val_loss_list: List of loss for validation set for training period (<=num_epochs)\n",
    "             train_loss_list: List of loss for training set for training period (<=num_epochs)\n",
    "             parameters: learned weights for the network (Variable tensor object)\n",
    "             sess: current session object. \n",
    "    \n",
    "    \"\"\"\n",
    "    tf.reset_default_graph() # reset\n",
    "    \n",
    "    X_train , y_train = train_data\n",
    "    X_val , y_val = val_data\n",
    "    \n",
    "    X_in,y_in = create_model_inputs(28,28,10)   # define placeholders\n",
    "    keep_prob = tf.placeholder(tf.float32)\n",
    "    parameters = initialize_parameters() # define model parameters\n",
    "    \n",
    "    prediction  = forward_propagation(X_in,parameters,keep_prob) # feed-forward\n",
    "    \n",
    "    loss = compute_cost(prediction,y_in)\n",
    "    optimizer = tf.train.AdamOptimizer(learning_rate).minimize(loss) # back-prop\n",
    "    \n",
    "    # accuracy prediction\n",
    "    label_predictions = tf.argmax(prediction,1)\n",
    "    true_predictions = tf.equal(label_predictions,tf.argmax(y_in,1))\n",
    "    accuracy = tf.reduce_mean(tf.cast(true_predictions,\"float\"))\n",
    "    \n",
    "    train_loss_list = []\n",
    "    val_loss_list = []\n",
    "    \n",
    "    # create and initialize variables through tensorflow session object.\n",
    "    sess = tf.InteractiveSession()\n",
    "    sess.run(tf.global_variables_initializer())\n",
    "    \n",
    "    # Training for num_epochs\n",
    "    for epoch in range(num_epochs):\n",
    "            \n",
    "        train_loss = 0            \n",
    "        minibatches = random_mini_batches(X_train,y_train,minibatch_size)\n",
    "        num_minibatches = int (X_train.shape[0] / minibatch_size)\n",
    "        \n",
    "        # Train for minibatch    \n",
    "        for minibatch in minibatches:\n",
    "            print('epoch',epoch)\n",
    "            X_minibatch , y_minibatch = minibatch\n",
    "                \n",
    "            _, minibatch_loss = sess.run([optimizer, loss], feed_dict={X_in:X_minibatch,y_in:y_minibatch,keep_prob:0.95}) # feed inputs \n",
    "                   \n",
    "            train_loss += minibatch_loss / num_minibatches \n",
    "            \n",
    "        val_loss,val_acc = sess.run([loss,accuracy], feed_dict={X_in:X_val,y_in:y_val,keep_prob:1.0})\n",
    "        train_acc = sess.run(accuracy,feed_dict={X_in:X_train,y_in:y_train,keep_prob:1.0})\n",
    "            \n",
    "        train_loss_list.append(train_loss)\n",
    "        val_loss_list.append(val_loss)\n",
    "            \n",
    "        print(('epoch %i: train_loss: %f  train_acc: %f, val_loss: %f val_acc: %f' \n",
    "               %(epoch+1,train_loss,train_acc,val_loss,val_acc)))\n",
    "        \n",
    "         \n",
    "    return train_loss_list,val_loss_list,parameters,sess\n",
    "        "
   ]
  },
  {
   "cell_type": "code",
   "execution_count": null,
   "metadata": {},
   "outputs": [
    {
     "name": "stdout",
     "output_type": "stream",
     "text": [
      "(60000,) (10000,)\n",
      "(60000,)\n",
      "(10000,)\n"
     ]
    }
   ],
   "source": [
    "print(trainLabels.shape, testLabels.shape)\n",
    "trainLabels = one_hot_encoding(trainLabels)\n",
    "testLabels =  one_hot_encoding(testLabels)\n",
    "train_data = (trainImgs,trainLabels)\n",
    "val_data = (testImgs, testLabels)\n",
    "model_train(train_data,val_data,num_epochs=20,learning_rate=0.001,minibatch_size=64)"
   ]
  },
  {
   "cell_type": "code",
   "execution_count": null,
   "metadata": {},
   "outputs": [],
   "source": [
    "def plot_loss(train_loss,val_loss):\n",
    "    \"\"\"\n",
    "    Plot of training and validation loss.\n",
    "    params:  val_loss_list: List of loss for validation set for training period (<=num_epochs)\n",
    "             train_loss_list: List of loss for training set for training period (<=num_epochs)\n",
    "    returns: None\n",
    "\n",
    "    \"\"\"\n",
    "    plt.plot(np.squeeze(train_loss),label='training')\n",
    "    plt.plot(np.squeeze(val_loss),label='validation')\n",
    "    plt.xlabel('epochs')\n",
    "    plt.ylabel('loss')\n",
    "    plt.title('Model Performance')\n",
    "    plt.legend()\n",
    "    plt.show()"
   ]
  },
  {
   "cell_type": "code",
   "execution_count": null,
   "metadata": {},
   "outputs": [],
   "source": [
    "def model_test(test_data,best_parameters,sess):\n",
    "    \"\"\"\n",
    "    Model evalution for the test set,\n",
    "    params:  sess: default tensorflow session object.\n",
    "             test_data: tuple of X (features) and y(labels) \n",
    "             best_parameters: final model parameters (weights).\n",
    "    returns: Accuracy on the test data.\n",
    "\n",
    "    \"\"\"\n",
    "    X_test, y_test = test_data\n",
    "\n",
    "    X_in,y_in = create_model_inputs()\n",
    "    keep_prob = tf.placeholder(tf.float32)\n",
    "    prediction  = nn_forward_prop(X_in,best_parameters,keep_prob)\n",
    "\n",
    "    \n",
    "    label_predictions = tf.argmax(prediction,1)\n",
    "    true_predictions = tf.equal(label_predictions,tf.argmax(y_in,1))\n",
    "    accuracy = tf.reduce_mean(tf.cast(true_predictions,\"float\"))\n",
    "    \n",
    "\n",
    "    acc = sess.run(accuracy, feed_dict={X_in:X_test,y_in:y_test,keep_prob:1.0})\n",
    "    \n",
    "    return acc"
   ]
  },
  {
   "cell_type": "code",
   "execution_count": null,
   "metadata": {},
   "outputs": [],
   "source": []
  }
 ],
 "metadata": {
  "kernelspec": {
   "display_name": "Python 3",
   "language": "python",
   "name": "python3"
  },
  "language_info": {
   "codemirror_mode": {
    "name": "ipython",
    "version": 3
   },
   "file_extension": ".py",
   "mimetype": "text/x-python",
   "name": "python",
   "nbconvert_exporter": "python",
   "pygments_lexer": "ipython3",
   "version": "3.5.2"
  }
 },
 "nbformat": 4,
 "nbformat_minor": 2
}
