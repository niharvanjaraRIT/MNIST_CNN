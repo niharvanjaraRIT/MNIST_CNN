{
 "cells": [
  {
   "cell_type": "code",
   "execution_count": 1,
   "metadata": {},
   "outputs": [],
   "source": [
    "import tensorflow as tf\n",
    "import struct\n",
    "import numpy as np\n",
    "from matplotlib import pyplot\n",
    "import matplotlib as mpl"
   ]
  },
  {
   "cell_type": "markdown",
   "metadata": {},
   "source": [
    "Define function for loading MNIST images and labels."
   ]
  },
  {
   "cell_type": "code",
   "execution_count": 2,
   "metadata": {},
   "outputs": [],
   "source": [
    "def load_files(label_path,img_path):\n",
    "    \"\"\"\n",
    "    load MNIST images and labels:\n",
    "    params: label path and image path\n",
    "    returns: returns 2 numpy arrays containing images (28 x 28) and labels (1 to 9)\n",
    "    \n",
    "    \"\"\"\n",
    "    with open(label_path, 'rb') as f_label:\n",
    "        _,_ = struct.unpack(\">II\", f_label.read(8))\n",
    "        labels = np.fromfile(f_label, dtype=np.int8)\n",
    "    \n",
    "    with open(img_path, 'rb') as f_img:\n",
    "        _,_, rows, cols = struct.unpack(\">IIII\", f_img.read(16))\n",
    "        imgs = np.fromfile(f_img, dtype=np.uint8).reshape(len(labels), rows, cols)\n",
    "    \n",
    "    return imgs,labels"
   ]
  },
  {
   "cell_type": "markdown",
   "metadata": {},
   "source": [
    "load train and test data"
   ]
  },
  {
   "cell_type": "code",
   "execution_count": 3,
   "metadata": {},
   "outputs": [],
   "source": [
    "trainImgs,trainLabels = load_files('data/train-labels.idx1-ubyte','data/train-images.idx3-ubyte')\n",
    "testImgs, testLabels = load_files('data/t10k-labels.idx1-ubyte','data/t10k-images.idx3-ubyte')"
   ]
  },
  {
   "cell_type": "markdown",
   "metadata": {},
   "source": [
    "Split the test set into validation and hold out test set."
   ]
  },
  {
   "cell_type": "code",
   "execution_count": 4,
   "metadata": {},
   "outputs": [
    {
     "name": "stdout",
     "output_type": "stream",
     "text": [
      "(10000, 28, 28) (10000,)\n",
      "(4999, 28, 28) (4999,)\n",
      "(5001, 28, 28) (5001,)\n"
     ]
    }
   ],
   "source": [
    "classDict = {}\n",
    "print(testImgs.shape, testLabels.shape)\n",
    "classes = np.unique(testLabels)\n",
    "valLabels = np.array([], dtype=np.int64).reshape(0,1)\n",
    "newtestLabels = np.array([], dtype=np.int64).reshape(0,1)\n",
    "newtestImgs = np.array([], dtype=np.int64).reshape(0,1,28,28)\n",
    "valImgs = np.array([], dtype=np.int64).reshape(0,1,28,28)\n",
    "for class_ in classes:\n",
    "    indices = np.argwhere(testLabels == class_)\n",
    "    np.random.shuffle(indices)\n",
    "    val_indices = indices[:int(len(indices) * 0.5)]\n",
    "    test_indices = indices[int(len(indices) * 0.5):]\n",
    "    valLabels = np.concatenate((valLabels,testLabels[val_indices]), axis=0)\n",
    "    valImgs = np.concatenate((valImgs,testImgs[val_indices]), axis=0)\n",
    "    newtestLabels = np.concatenate((newtestLabels,testLabels[test_indices]), axis=0)\n",
    "    newtestImgs = np.concatenate((newtestImgs,testImgs[test_indices]), axis=0)\n",
    "valLabels = np.squeeze(valLabels)\n",
    "valImgs = np.squeeze(valImgs)\n",
    "testLabels = np.squeeze(newtestLabels)\n",
    "testImgs = np.squeeze(newtestImgs)\n",
    "print(valImgs.shape,valLabels.shape)\n",
    "print(testImgs.shape,testLabels.shape)"
   ]
  },
  {
   "cell_type": "code",
   "execution_count": 5,
   "metadata": {},
   "outputs": [],
   "source": [
    "def show(imgs,labels):\n",
    "    \"\"\"\n",
    "    plot sample images for each class (0 to 9) for the given distribution set.\n",
    "    params: imgs: images in the form of numpy arrays\n",
    "    params: labels: labels of the raw images\n",
    "    returns: \n",
    "    \n",
    "    \"\"\"\n",
    "    classes = np.unique(labels)\n",
    "    counter = 1\n",
    "    fig = pyplot.figure(figsize=(15,15))\n",
    "    for class_ in classes:\n",
    "        indices = np.argwhere(labels == class_).reshape(-1)\n",
    "        random_index = np.random.choice(indices, 1)\n",
    "        ax = fig.add_subplot(1,10,counter)\n",
    "        ax.imshow(imgs[random_index[0]], cmap=mpl.cm.Greys)\n",
    "        ax.set_yticklabels([])\n",
    "        ax.set_xticklabels([])\n",
    "        counter += 1\n",
    "    pyplot.subplots_adjust(wspace=0.05)\n",
    "    pyplot.show()\n"
   ]
  },
  {
   "cell_type": "code",
   "execution_count": 6,
   "metadata": {},
   "outputs": [
    {
     "name": "stdout",
     "output_type": "stream",
     "text": [
      "Training data (Random Image samples)\n"
     ]
    },
    {
     "data": {
      "image/png": "[encoded data removed]",
      "text/plain": [
       "<matplotlib.figure.Figure at 0x1a3ded52898>"
      ]
     },
     "metadata": {},
     "output_type": "display_data"
    },
    {
     "name": "stdout",
     "output_type": "stream",
     "text": [
      "Validation data (Random Image samples)\n"
     ]
    },
    {
     "data": {
      "image/png": "[encoded data removed]",
      "text/plain": [
       "<matplotlib.figure.Figure at 0x1a3ded52f98>"
      ]
     },
     "metadata": {},
     "output_type": "display_data"
    },
    {
     "name": "stdout",
     "output_type": "stream",
     "text": [
      "Testing data (Random Image samples)\n"
     ]
    },
    {
     "data": {
      "image/png": "[encoded data removed]",
      "text/plain": [
       "<matplotlib.figure.Figure at 0x1a3e32c7278>"
      ]
     },
     "metadata": {},
     "output_type": "display_data"
    }
   ],
   "source": [
    "print('Training data (Random Image samples)')\n",
    "show(trainImgs,trainLabels)\n",
    "print('Validation data (Random Image samples)')\n",
    "show(valImgs, valLabels)\n",
    "print('Testing data (Random Image samples)')\n",
    "show(testImgs, testLabels)"
   ]
  },
  {
   "cell_type": "code",
   "execution_count": 7,
   "metadata": {},
   "outputs": [],
   "source": [
    "def one_hot_encoding(y):\n",
    "    \"\"\"\n",
    "    Generate one-hot-ecoding for the labels:\n",
    "    params: list of labels: y\n",
    "    returns: numpy array of encoded labels of size [?,num_classes]\n",
    "    \n",
    "    \"\"\"\n",
    "    num_samples = y.shape[0]\n",
    "    print(y.shape)\n",
    "    num_class = np.unique(y).shape[0]   \n",
    "    num_class = 10    \n",
    "    y_encoded = np.zeros((num_samples,num_class))\n",
    "    y_encoded[np.arange(num_samples),y] = 1\n",
    "\n",
    "    return y_encoded"
   ]
  },
  {
   "cell_type": "markdown",
   "metadata": {},
   "source": [
    "Convert to one-hot-encoded labels."
   ]
  },
  {
   "cell_type": "code",
   "execution_count": 8,
   "metadata": {},
   "outputs": [
    {
     "name": "stdout",
     "output_type": "stream",
     "text": [
      "(60000,)\n",
      "(5001,)\n",
      "(4999,)\n"
     ]
    }
   ],
   "source": [
    "trainLabels = one_hot_encoding(trainLabels)\n",
    "testLabels =  one_hot_encoding(testLabels)\n",
    "valLabels = one_hot_encoding(valLabels)"
   ]
  },
  {
   "cell_type": "code",
   "execution_count": 9,
   "metadata": {},
   "outputs": [],
   "source": [
    "def create_model_inputs(n_W,n_H,n_y):\n",
    "    \"\"\"\n",
    "    Define model inputs based on dimensions provided.\n",
    "    params: n_W: width of the input\n",
    "    params: n_h: height of the input\n",
    "    params: n_y: number of labels for the distribution\n",
    "    returns: tensor placeholder objects\n",
    "    \n",
    "    \"\"\"\n",
    "    X = tf.placeholder(tf.float32, shape=[None,n_W,n_H])\n",
    "    Y = tf.placeholder(tf.float32, shape=[None,n_y])\n",
    "    \n",
    "    return X,Y"
   ]
  },
  {
   "cell_type": "code",
   "execution_count": 30,
   "metadata": {},
   "outputs": [],
   "source": [
    "def random_mini_batches(X,Y,minibatch_size,seed=3):\n",
    "    \"\"\"\n",
    "    Function to split data into random mini batches\n",
    "    params: X: width of the input\n",
    "    params: Y: height of the input\n",
    "    params: minibatch: number of labels for the distribution\n",
    "    params: minibatch_size: number of labels for the distribution\n",
    "    returns: list of minibatches for the data\n",
    "    \n",
    "    \"\"\"\n",
    "    np.random.seed(seed)\n",
    "    num_samples = X.shape[0]\n",
    "    indices = np.arange(num_samples)\n",
    "    np.random.shuffle(indices)\n",
    "    \n",
    "    minibatches = []\n",
    "    for idx in range(0,num_samples,minibatch_size):\n",
    "        \n",
    "        minibatch_idices = indices[idx:idx+minibatch_size]\n",
    "        minibatches.append((X[minibatch_idices,:,:],\n",
    "                              Y[minibatch_idices,:]))\n",
    "    return minibatches"
   ]
  },
  {
   "cell_type": "code",
   "execution_count": 31,
   "metadata": {},
   "outputs": [],
   "source": [
    "def initialize_parameters():\n",
    "    \"\"\"\n",
    "    initialize weights of the CNN.\n",
    "    returns: dictionary consisting of weights for each CNN layer.\n",
    "    \n",
    "    \"\"\"\n",
    "    tf.set_random_seed(1)\n",
    "    \n",
    "    filter_height = {\"l1\": 10, \"l2\": 10, \"l3\": 10 }\n",
    "    filter_width = {\"l1\" : 10, \"l2\": 10, \"l3\" : 10}\n",
    "    in_channels = {\"l1\" : 1,\"l2\" : 16, \"l3\" : 32, \"l4\": 1024}\n",
    "    out_channels = {\"l1\" : 16,\"l2\" : 32,\"l3\" : 64, \"l4\" : 10}\n",
    "    \n",
    "    init = tf.contrib.layers.xavier_initializer(seed = 0)\n",
    "    bias_init = tf.constant_initializer(0.0)\n",
    "    \n",
    "    W1 = tf.get_variable(\"W1\",[filter_height[\"l1\"],filter_width[\"l1\"],in_channels[\"l1\"],out_channels[\"l1\"]],initializer=init)\n",
    "    W2 = tf.get_variable(\"W2\",[filter_height[\"l2\"],filter_width[\"l2\"],in_channels[\"l2\"],out_channels[\"l2\"]],initializer=init)\n",
    "    W3 = tf.get_variable(\"W3\",[filter_height[\"l3\"],filter_width[\"l3\"],in_channels[\"l3\"],out_channels[\"l3\"]],initializer=init)\n",
    "    W4 = tf.get_variable(\"W4\",[in_channels[\"l4\"],out_channels[\"l4\"]],initializer=init) \n",
    "    \n",
    "    bias1 = tf.get_variable(\"bias1\",out_channels[\"l1\"],initializer=bias_init)\n",
    "    bias2 = tf.get_variable(\"bias2\",out_channels[\"l2\"],initializer=bias_init)\n",
    "    bias3 = tf.get_variable(\"bias3\",out_channels[\"l3\"],initializer=bias_init)\n",
    "    bias4 = tf.get_variable(\"bias4\",out_channels[\"l4\"],initializer=bias_init)\n",
    "    \n",
    "    parameters = {\"W1\":W1,\"W2\":W2,\"W3\":W3,\"W4\":W4,\n",
    "                  \"bias1\":bias1,\"bias2\":bias2,\"bias3\":bias3,\"bias4\":bias4}\n",
    "    \n",
    "    return parameters"
   ]
  },
  {
   "cell_type": "code",
   "execution_count": 32,
   "metadata": {},
   "outputs": [],
   "source": [
    "# tf.reset_default_graph()\n",
    "# initialize_parameters()"
   ]
  },
  {
   "cell_type": "code",
   "execution_count": 33,
   "metadata": {},
   "outputs": [],
   "source": [
    "def forward_propagation(X,parameters,keep_prob):\n",
    "    \"\"\"\n",
    "    CNN architecture \n",
    "    params: X: raw input data (images)\n",
    "    params: Y: initialized weights of the CNN architecture\n",
    "    params: keep_prob: Fraction of neurons to be kept (dropout rate)\n",
    "    returns: output of the CNN (values of 10 output neurons representing probabilities of each class). \n",
    "    \n",
    "    \"\"\"\n",
    "    X = tf.reshape(X, [-1, 28, 28, 1])  # reshape to (?,28,28,1) \n",
    "    \n",
    "    W1,bias1 = parameters[\"W1\"], parameters[\"bias1\"]\n",
    "    W2,bias2 = parameters[\"W2\"], parameters[\"bias2\"]\n",
    "    W3,bias3 = parameters[\"W3\"], parameters[\"bias3\"]\n",
    "    W4,bias4 = parameters[\"W4\"], parameters[\"bias4\"]\n",
    "    \n",
    "    Z1 = tf.nn.conv2d(X,W1,strides=[1, 1, 1, 1],padding='SAME') + bias1\n",
    "    A1 = tf.nn.relu(Z1)\n",
    "    D1 = tf.nn.dropout(A1,keep_prob)\n",
    "    P1 = tf.nn.max_pool(D1, ksize=[1, 2, 2, 1],strides=[1, 2, 2, 1], padding='SAME')\n",
    "    \n",
    "    Z2 = tf.nn.conv2d(P1,W2,strides=[1, 1, 1, 1],padding='SAME') + bias2\n",
    "    A2 = tf.nn.relu(Z2)\n",
    "    D2 = tf.nn.dropout(A2,keep_prob)\n",
    "    P2 = tf.nn.max_pool(D2, ksize=[1, 2, 2, 1],strides=[1, 2, 2, 1], padding='SAME')\n",
    "    \n",
    "    Z3 = tf.nn.conv2d(P2,W3,strides=[1, 1, 1, 1],padding='SAME') + bias3\n",
    "    A3 = tf.nn.relu(Z3)\n",
    "    D3 = tf.nn.dropout(A3,keep_prob)\n",
    "    P3 = tf.nn.max_pool(A3, ksize=[1, 2, 2, 1],strides=[1, 2, 2, 1], padding='SAME')\n",
    "    \n",
    "    P3 = tf.contrib.layers.flatten(P3)\n",
    "\n",
    "    #Z3 = tf.contrib.layers.fully_connected(P3, num_outputs=10, activation_fn=None)\n",
    "    Z3 = tf.matmul(P3,W4) + bias4\n",
    "    \n",
    "    return Z3"
   ]
  },
  {
   "cell_type": "code",
   "execution_count": 34,
   "metadata": {},
   "outputs": [],
   "source": [
    "def compute_cost(prediction,actual):\n",
    "    \"\"\"\n",
    "    params: actual labels\n",
    "    params: predicted probabilites\n",
    "    returns: softmax cross entropy cost between the actual and predicted distribution. \n",
    "    \n",
    "    \"\"\"\n",
    "    cost = tf.reduce_mean(tf.nn.softmax_cross_entropy_with_logits(logits=prediction,labels=actual))        \n",
    "    return cost "
   ]
  },
  {
   "cell_type": "code",
   "execution_count": 35,
   "metadata": {},
   "outputs": [],
   "source": [
    "def model_train(train_data,val_data,num_epochs=20,learning_rate=0.001,minibatch_size=128):\n",
    "    \"\"\"\n",
    "    \n",
    "    Training the CNN for fixed number of epochs.\n",
    "    \n",
    "    params: training data: tuple of X [?,784] and Y [?,10]\n",
    "            validation data: tuple of X [?,784] and Y [?,10]\n",
    "            number of epochs (max): int   \n",
    "            learning rate (alpha): float\n",
    "            minibatch size: int\n",
    "    returns: val_loss_list: List of loss for validation set for training period (<=num_epochs)\n",
    "             train_loss_list: List of loss for training set for training period (<=num_epochs)\n",
    "             parameters: learned weights for the network (Variable tensor object)\n",
    "             sess: current session object. \n",
    "    \n",
    "    \"\"\"\n",
    "    tf.reset_default_graph() # reset\n",
    "    \n",
    "    X_train , y_train = train_data\n",
    "    X_val , y_val = val_data\n",
    "    \n",
    "    X_in,y_in = create_model_inputs(28,28,10)   # define placeholders\n",
    "    keep_prob = tf.placeholder(tf.float32)\n",
    "    parameters = initialize_parameters() # define model parameters\n",
    "    \n",
    "    prediction  = forward_propagation(X_in,parameters,keep_prob) # feed-forward\n",
    "    \n",
    "    loss = compute_cost(prediction,y_in)\n",
    "    optimizer = tf.train.AdamOptimizer(learning_rate).minimize(loss) # back-prop\n",
    "    \n",
    "    # accuracy prediction\n",
    "    label_predictions = tf.argmax(prediction,1)\n",
    "    true_predictions = tf.equal(label_predictions,tf.argmax(y_in,1))\n",
    "    correct_predictions = tf.reduce_sum(tf.cast(true_predictions,\"float\"))\n",
    "    accuracy = tf.reduce_mean(tf.cast(true_predictions,\"float\"))\n",
    "    \n",
    "    train_loss_list = []\n",
    "    val_loss_list = []\n",
    "    \n",
    "    # create and initialize variables through tensorflow session object.\n",
    "    sess = tf.InteractiveSession()\n",
    "    sess.run(tf.global_variables_initializer())\n",
    "    \n",
    "    # Training for num_epochs\n",
    "    for epoch in range(num_epochs):\n",
    "            \n",
    "        train_loss = 0            \n",
    "        minibatches = random_mini_batches(X_train,y_train,minibatch_size)\n",
    "        num_minibatches = int (X_train.shape[0] / minibatch_size)\n",
    "        \n",
    "        # Train for minibatch\n",
    "        right_predictions = 0\n",
    "        for minibatch in minibatches:\n",
    "            X_minibatch , y_minibatch = minibatch\n",
    "                \n",
    "            _, minibatch_loss,true_predictions = sess.run([optimizer, loss, correct_predictions], feed_dict={X_in:X_minibatch,y_in:y_minibatch,keep_prob:0.90}) # feed inputs \n",
    "                   \n",
    "            train_loss += minibatch_loss / num_minibatches \n",
    "            right_predictions += true_predictions\n",
    "        \n",
    "        train_acc = right_predictions/X_train.shape[0]\n",
    "        val_loss,val_acc = sess.run([loss,accuracy], feed_dict={X_in:X_val,y_in:y_val,keep_prob:1.0})\n",
    "            \n",
    "        train_loss_list.append(train_loss)\n",
    "        val_loss_list.append(val_loss)\n",
    "            \n",
    "        print(('epoch %i: train_loss: %f  train_acc: %f, val_loss: %f val_acc: %f' \n",
    "               %(epoch+1,train_loss,train_acc,val_loss,val_acc)))\n",
    "         \n",
    "    return train_loss_list,val_loss_list,parameters,sess\n",
    "        "
   ]
  },
  {
   "cell_type": "code",
   "execution_count": 45,
   "metadata": {},
   "outputs": [
    {
     "name": "stdout",
     "output_type": "stream",
     "text": [
      "epoch 1: train_loss: 0.413582  train_acc: 0.921600, val_loss: 0.065285 val_acc: 0.977996\n",
      "epoch 2: train_loss: 0.068759  train_acc: 0.978617, val_loss: 0.060464 val_acc: 0.979596\n",
      "epoch 3: train_loss: 0.049343  train_acc: 0.984733, val_loss: 0.054442 val_acc: 0.982797\n",
      "epoch 4: train_loss: 0.046731  train_acc: 0.985633, val_loss: 0.060666 val_acc: 0.979796\n",
      "epoch 5: train_loss: 0.039069  train_acc: 0.988250, val_loss: 0.051474 val_acc: 0.983797\n"
     ]
    }
   ],
   "source": [
    "train_data = (trainImgs,trainLabels)\n",
    "val_data = (valImgs, valLabels)\n",
    "train_loss_list,val_loss_list,parameters,sess = model_train(train_data,val_data,num_epochs=5,learning_rate=0.001,minibatch_size=128)"
   ]
  },
  {
   "cell_type": "code",
   "execution_count": 46,
   "metadata": {},
   "outputs": [],
   "source": [
    "def plot_loss(train_loss,val_loss):\n",
    "    \"\"\"\n",
    "    Plot of training and validation loss.\n",
    "    params:  val_loss_list: List of loss for validation set for training period (<=num_epochs)\n",
    "             train_loss_list: List of loss for training set for training period (<=num_epochs)\n",
    "    returns: None\n",
    "\n",
    "    \"\"\"\n",
    "    pyplot.plot(np.squeeze(train_loss),label='training')\n",
    "    pyplot.plot(np.squeeze(val_loss),label='validation')\n",
    "    pyplot.xlabel('epochs')\n",
    "    pyplot.ylabel('loss')\n",
    "    pyplot.title('Model Performance')\n",
    "    pyplot.legend()\n",
    "    pyplot.show()"
   ]
  },
  {
   "cell_type": "code",
   "execution_count": 47,
   "metadata": {},
   "outputs": [
    {
     "data": {
      "image/png": "[encoded data removed]",
      "text/plain": [
       "<matplotlib.figure.Figure at 0x1a380bf5f60>"
      ]
     },
     "metadata": {},
     "output_type": "display_data"
    }
   ],
   "source": [
    "plot_loss(train_loss_list,val_loss_list)"
   ]
  },
  {
   "cell_type": "code",
   "execution_count": 48,
   "metadata": {},
   "outputs": [],
   "source": [
    "def model_test(test_data,best_parameters,sess):\n",
    "    \"\"\"\n",
    "    Model evalution for the test set,\n",
    "    params:  sess: default tensorflow session object.\n",
    "    params:  test_data: tuple of X (features) and y(labels) \n",
    "    params:  best_parameters: final model parameters (weights).\n",
    "    returns: Accuracy on the test data.\n",
    "\n",
    "    \"\"\"\n",
    "    X_test, y_test = test_data\n",
    "\n",
    "    X_in,y_in = create_model_inputs(28,28,10) \n",
    "    keep_prob = tf.placeholder(tf.float32)\n",
    "    prediction  = forward_propagation(X_in,best_parameters,keep_prob)\n",
    "\n",
    "    \n",
    "    label_predictions = tf.argmax(prediction,1)\n",
    "    true_predictions = tf.equal(label_predictions,tf.argmax(y_in,1))\n",
    "    accuracy = tf.reduce_mean(tf.cast(true_predictions,\"float\"))\n",
    "    \n",
    "    acc = sess.run(accuracy, feed_dict={X_in:X_test,y_in:y_test,keep_prob:1.0})\n",
    "    \n",
    "    return acc"
   ]
  },
  {
   "cell_type": "code",
   "execution_count": 49,
   "metadata": {},
   "outputs": [
    {
     "name": "stdout",
     "output_type": "stream",
     "text": [
      "0.988602\n"
     ]
    }
   ],
   "source": [
    "test_data = (testImgs, testLabels)\n",
    "print(model_test(test_data,parameters,sess))"
   ]
  },
  {
   "cell_type": "code",
   "execution_count": null,
   "metadata": {},
   "outputs": [],
   "source": []
  }
 ],
 "metadata": {
  "kernelspec": {
   "display_name": "Python 3",
   "language": "python",
   "name": "python3"
  },
  "language_info": {
   "codemirror_mode": {
    "name": "ipython",
    "version": 3
   },
   "file_extension": ".py",
   "mimetype": "text/x-python",
   "name": "python",
   "nbconvert_exporter": "python",
   "pygments_lexer": "ipython3",
   "version": "3.5.2"
  }
 },
 "nbformat": 4,
 "nbformat_minor": 2
}
